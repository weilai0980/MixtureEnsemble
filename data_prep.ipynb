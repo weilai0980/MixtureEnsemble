{
 "cells": [
  {
   "cell_type": "code",
   "execution_count": 24,
   "metadata": {
    "collapsed": true
   },
   "outputs": [],
   "source": [
    "%matplotlib inline    \n",
    "import matplotlib as mplt\n",
    "from matplotlib import cm\n",
    "import matplotlib.pyplot as plt\n",
    "import matplotlib.gridspec as gridspec\n",
    "\n",
    "import matplotlib\n",
    "from matplotlib.ticker import FuncFormatter\n",
    "import matplotlib.pyplot as plt\n",
    "# matplotlib.style.use('ggplot')\n",
    "\n",
    "from scipy.stats import lognorm\n",
    "from scipy.stats import norm\n",
    "# from scipy.stats import chisqprob\n",
    "\n",
    "from numpy import prod\n",
    "import seaborn as sns\n",
    "\n",
    "# statiscal models\n",
    "import statsmodels as sm\n",
    "from statsmodels.tsa.stattools import acf  \n",
    "from statsmodels.tsa.stattools import pacf\n",
    "from statsmodels.tsa.api import VAR, DynamicVAR\n",
    "\n",
    "from statsmodels.stats import diagnostic\n",
    "\n",
    "# local packages\n",
    "from utils_libs import *\n",
    "from utils_data_prep import *"
   ]
  },
  {
   "cell_type": "code",
   "execution_count": 30,
   "metadata": {},
   "outputs": [
    {
     "name": "stdout",
     "output_type": "stream",
     "text": [
      "{'para_step_ahead': 0, 'para_order_hour': 16, 'para_order_minu': 30, 'roll_len': 2, 'bool_feature_selection': False, 'interval_len': 720}\n"
     ]
    }
   ],
   "source": [
    "def para_parser(para_path):\n",
    "    \n",
    "    with open(para_path, \"r\") as ins:\n",
    "        array = []\n",
    "        para_dict = {}\n",
    "    \n",
    "        for line in ins:\n",
    "            newline = line.strip('\\n')\n",
    "            tmpline = newline.split(',')\n",
    "            \n",
    "            if tmpline[1] =='int':\n",
    "                para_dict.update( {tmpline[0]:int(tmpline[2])} )\n",
    "            elif tmpline[1] =='bool':\n",
    "                para_dict.update( {tmpline[0]: False if tmpline[2] == 'False' else True} )\n",
    "        \n",
    "        return para_dict\n",
    "\n",
    "\n",
    "para_dict = para_parser(\"para_file.txt\")\n",
    "print para_dict\n"
   ]
  },
  {
   "cell_type": "code",
   "execution_count": 9,
   "metadata": {},
   "outputs": [
    {
     "name": "stdout",
     "output_type": "stream",
     "text": [
      "[1, 2, 3, 4]\n"
     ]
    }
   ],
   "source": [
    "a = [1,2,3,4,5]\n",
    "print a[:-1]"
   ]
  },
  {
   "cell_type": "code",
   "execution_count": 5,
   "metadata": {},
   "outputs": [
    {
     "name": "stdout",
     "output_type": "stream",
     "text": [
      "701892 13729 606\n",
      "(701892, 10) (13729,)\n"
     ]
    }
   ],
   "source": [
    "# --- Load pre-processed order book data ---\n",
    "\n",
    "all_dta_minu = np.load(\"../dataset/bitcoin/dta_minu.dat\")\n",
    "all_loc_hour = np.load(\"../dataset/bitcoin/loc_hour.dat\")\n",
    "all_loc_month = np.load(\"../dataset/bitcoin/loc_month.dat\")\n",
    "print len(all_dta_minu), len(all_loc_hour), len(all_loc_month)\n",
    "\n",
    "features_minu = np.load(\"../dataset/bitcoin/training_data/feature_minu.dat\")\n",
    "rvol_hour = np.load(\"../dataset/bitcoin/training_data/return_vol_hour.dat\")\n",
    "print np.shape(features_minu), np.shape(rvol_hour)\n",
    "\n",
    "# --- Load order book data files ---\n",
    "\n",
    "# all_dta_minu, all_loc_hour, all_loc_month = load_raw_order_book_files('../dataset/bitcoin/order_book/*.csv', True)"
   ]
  },
  {
   "cell_type": "code",
   "execution_count": 5,
   "metadata": {
    "collapsed": true
   },
   "outputs": [],
   "source": [
    "# --- calculate price, return and volatility ---\n",
    "\n",
    "price_minu, req_minu = cal_price_req_minu(all_dta_minu)\n",
    "\n",
    "print np.shape(price_minu), np.shape(req_minu)\n",
    "\n",
    "#pvol_hour = cal_price_volatility_hour( all_loc_hour, price_minu )\n",
    "return_minu, rvol_hour = cal_return_volatility_hour( all_loc_hour, price_minu, 'per' )\n",
    "\n",
    "print len(price_minu),len(return_minu), len(rvol_hour)\n",
    "\n",
    "# --- extract features w.r.t. minutes ---\n",
    "\n",
    "features_minu = [] \n",
    "\n",
    "for i in range( len(all_dta_minu) ):\n",
    "    \n",
    "    # shape: index by [price, amount]\n",
    "    tmp_a = all_dta_minu[i][0]\n",
    "    tmp_b = all_dta_minu[i][1]\n",
    "\n",
    "    '''\n",
    "    tmpft = mle_norm_2d(tmp_a)\n",
    "    tmp = tmpft[0] + tmpft[1]\n",
    "    \n",
    "    tmpft = mle_norm_2d(tmp_b)\n",
    "    tmp += tmpft[0]\n",
    "    tmp += tmpft[1]\n",
    "    \n",
    "    # skewness feature\n",
    "    tmp += skewness(tmp_a)\n",
    "    tmp += skewness(tmp_b)\n",
    "    \n",
    "    # amount of requests\n",
    "    tmp += [len(all_dta_minu[i][0]), len(all_dta_minu[i][1])] \n",
    "    \n",
    "    '''\n",
    "    features_minu.append( orderbook_stat_features(all_dta_minu, i) )\n",
    "    \n",
    "#  shape: [miniutes, features]\n",
    "features_minu = np.reshape( features_minu, (len(features_minu), -1) )\n",
    "\n",
    "print np.shape( np.asarray(features_minu) )\n",
    "\n",
    "np.asarray(features_minu).dump(\"../dataset/bitcoin/training_data/feature_minu.dat\")\n",
    "np.asarray(rvol_hour ).dump(\"../dataset/bitcoin/training_data/return_vol_hour.dat\")\n"
   ]
  },
  {
   "cell_type": "code",
   "execution_count": 8,
   "metadata": {
    "collapsed": true
   },
   "outputs": [],
   "source": [
    "# --- parameter set-up for preparing trainning and testing data ---\n",
    "para_order_minu = 30\n",
    "para_order_hour = 16\n",
    "para_train_split_ratio = 0.8\n",
    "bool_feature_selection = False\n"
   ]
  },
  {
   "cell_type": "code",
   "execution_count": 62,
   "metadata": {},
   "outputs": [
    {
     "name": "stdout",
     "output_type": "stream",
     "text": [
      "10625 (16,) (10, 10)\n",
      "(8500, 116) (8500,) (1825, 116) (1825,)\n"
     ]
    }
   ],
   "source": [
    "# --- obtain training and testing data, plain regression ---\n",
    "\n",
    "file_postfix = \"v_minu_reg\" \n",
    "\n",
    "# features_minu, req_minu, pvol_hour, all_loc_hour\n",
    "x, y, var_explain = prepare_feature_target( features_minu, rvol_hour, all_loc_hour, \\\n",
    "                                                        para_order_minu, para_order_hour, bool_feature_selection )\n",
    "# shape of x[i][1]: [T, Features]\n",
    "print len(x), np.shape(x[0][0]), np.shape(x[0][1])\n",
    "    \n",
    "xtrain, ytrain, xtest, ytest = training_testing_plain_regression(x, y, para_train_split_ratio)    \n",
    "\n",
    "#test\n",
    "xtest = xtest[300:]\n",
    "ytest = ytest[300:]\n",
    "\n",
    "\n",
    "print np.shape(xtrain), np.shape(ytrain), np.shape(xtest), np.shape(ytest)\n",
    "np.asarray(xtrain).dump(\"../dataset/bitcoin/training_data/xtrain_\"+file_postfix+\".dat\")\n",
    "np.asarray(xtest ).dump(\"../dataset/bitcoin/training_data/xtest_\" +file_postfix+\".dat\")\n",
    "np.asarray(ytrain).dump(\"../dataset/bitcoin/training_data/ytrain_\"+file_postfix+\".dat\")\n",
    "np.asarray(ytest ).dump(\"../dataset/bitcoin/training_data/ytest_\" +file_postfix+\".dat\")\n"
   ]
  },
  {
   "cell_type": "code",
   "execution_count": 23,
   "metadata": {},
   "outputs": [
    {
     "name": "stdout",
     "output_type": "stream",
     "text": [
      "(8515,) (8515, 200) (2125,) (2125, 200)\n"
     ]
    }
   ],
   "source": [
    "# --- obtain training and testing data, arima, structural time series ---\n",
    "\n",
    "file_postfix = \"stat\" \n",
    "\n",
    "xtrain, extrain, xtest, extest = training_testing_statistic(features_minu, rvol_hour, all_loc_hour, \\\n",
    "                                para_order_minu, para_order_hour, para_train_split_ratio, bool_feature_selection)\n",
    "\n",
    "print np.shape(xtrain), np.shape(extrain), np.shape(xtest), np.shape(extest)\n",
    "\n",
    "np.asarray(xtrain).dump(\"../dataset/bitcoin/training_data/xtrain_\"+file_postfix+\".dat\")\n",
    "np.asarray(xtest ).dump(\"../dataset/bitcoin/training_data/xtest_\" +file_postfix+\".dat\")\n",
    "np.asarray(extrain).dump(\"../dataset/bitcoin/training_data/extrain_\"+file_postfix+\".dat\")\n",
    "np.asarray(extest ).dump(\"../dataset/bitcoin/training_data/extest_\" +file_postfix+\".dat\")\n"
   ]
  },
  {
   "cell_type": "code",
   "execution_count": 61,
   "metadata": {},
   "outputs": [
    {
     "name": "stdout",
     "output_type": "stream",
     "text": [
      "(8515,) (8515,) (2125,) (2125,)\n",
      "10640 10640\n"
     ]
    }
   ],
   "source": [
    "# --- obtain training and testing data, garch ---\n",
    "\n",
    "file_postfix = \"garch\" \n",
    "\n",
    "vol_train, rt_train, vol_test, rt_test = training_testing_garch(rvol_hour, all_loc_hour, para_order_hour, \\\n",
    "                                                                para_train_split_ratio, price_minu)\n",
    "\n",
    "print np.shape(vol_train), np.shape(rt_train), np.shape(vol_test), np.shape(rt_test)\n",
    "print len(rt_train)+len(rt_test), len(vol_train)+len(vol_test)\n",
    "\n",
    "np.asarray(vol_train).dump(\"../dataset/bitcoin/training_data/voltrain_\"+file_postfix+\".dat\")\n",
    "np.asarray(rt_train).dump(\"../dataset/bitcoin/training_data/rttrain_\"  +file_postfix+\".dat\")\n",
    "np.asarray(vol_test).dump(\"../dataset/bitcoin/training_data/voltest_\"  +file_postfix+\".dat\")\n",
    "np.asarray(rt_test).dump(\"../dataset/bitcoin/training_data/rttest_\"    +file_postfix+\".dat\")"
   ]
  },
  {
   "cell_type": "code",
   "execution_count": 29,
   "metadata": {},
   "outputs": [
    {
     "name": "stdout",
     "output_type": "stream",
     "text": [
      "10625 (16,) (10, 10)\n",
      "2 16 100 (8500,) (1825,)\n"
     ]
    }
   ],
   "source": [
    "# --- obtain training and testing data, mixture, shape of external features [T*D] --- \n",
    "\n",
    "file_postfix = \"v_minu_mix\"\n",
    "\n",
    "# features_minu, req_minu, pvol_hour, all_loc_hour\n",
    "x, y, var_explain = prepare_feature_target( features_minu, rvol_hour, all_loc_hour, \\\n",
    "                                           para_order_minu, para_order_hour, bool_feature_selection )\n",
    "\n",
    "print len(x), np.shape(x[0][0]), np.shape(x[0][1])\n",
    "\n",
    "xtrain, ytrain, xtest, ytest = training_testing_mixture_mlp(x, y, para_train_split_ratio)\n",
    "\n",
    "#test\n",
    "xtest = xtest[300:]\n",
    "ytest = ytest[300:]\n",
    "\n",
    "print len(xtrain[0]), len(xtrain[0][0]), len(xtrain[0][1]), np.shape(ytrain), np.shape(ytest)\n",
    "np.asarray(xtrain).dump(\"../dataset/bitcoin/training_data/xtrain_\"+file_postfix+\".dat\")\n",
    "np.asarray(xtest ).dump(\"../dataset/bitcoin/training_data/xtest_\" +file_postfix+\".dat\")\n",
    "np.asarray(ytrain).dump(\"../dataset/bitcoin/training_data/ytrain_\"+file_postfix+\".dat\")\n",
    "np.asarray(ytest ).dump(\"../dataset/bitcoin/training_data/ytest_\" +file_postfix+\".dat\")\n",
    "\n",
    "#  done for training-test preparaion "
   ]
  },
  {
   "cell_type": "code",
   "execution_count": 92,
   "metadata": {},
   "outputs": [
    {
     "name": "stdout",
     "output_type": "stream",
     "text": [
      "10625\n",
      "2 (16,) (30, 10) (8500,) (1825,)\n"
     ]
    }
   ],
   "source": [
    "# --- obtain training and testing data, mixture, shape of external features [T, D] --- \n",
    "\n",
    "file_postfix = \"v_minu_mix\"\n",
    "\n",
    "# features_minu, req_minu, pvol_hour, all_loc_hour\n",
    "x, y, var_explain = prepare_feature_target( features_minu, rvol_hour, all_loc_hour, \\\n",
    "                                           para_order_minu, para_order_hour, bool_feature_selection )\n",
    "print len(x)\n",
    "\n",
    "xtrain, ytrain, xtest, ytest = training_testing_mixture_rnn(x, y, para_train_split_ratio)\n",
    "\n",
    "#test\n",
    "xtest = xtest[300:]\n",
    "ytest = ytest[300:]\n",
    "\n",
    "print len(xtrain[0]), np.shape(xtrain[0][0]), np.shape(xtrain[0][1]), np.shape(ytrain), np.shape(ytest)\n",
    "np.asarray(xtrain).dump(\"../dataset/bitcoin/training_data/xtrain_\"+file_postfix+\".dat\")\n",
    "np.asarray(xtest ).dump(\"../dataset/bitcoin/training_data/xtest_\" +file_postfix+\".dat\")\n",
    "np.asarray(ytrain).dump(\"../dataset/bitcoin/training_data/ytrain_\"+file_postfix+\".dat\")\n",
    "np.asarray(ytest ).dump(\"../dataset/bitcoin/training_data/ytest_\" +file_postfix+\".dat\")\n",
    "\n",
    "# full shape back-up\n",
    "np.asarray(xtrain).dump(\"../dataset/bitcoin/training_data/xtrain_orig.dat\")\n"
   ]
  },
  {
   "cell_type": "code",
   "execution_count": 10,
   "metadata": {},
   "outputs": [
    {
     "name": "stdout",
     "output_type": "stream",
     "text": [
      "percent:  0.999717647059\n"
     ]
    },
    {
     "data": {
      "text/plain": [
       "(0.95, 1)"
      ]
     },
     "execution_count": 10,
     "metadata": {},
     "output_type": "execute_result"
    },
    {
     "data": {
      "image/png": "[encoded data removed]",
      "text/plain": [
       "<matplotlib.figure.Figure at 0x7f1435e2b4d0>"
      ]
     },
     "metadata": {},
     "output_type": "display_data"
    }
   ],
   "source": [
    "# --- explained variance in feature selection ---\n",
    "\n",
    "print 'percent: ', sum([1 for i in var_explain if i>=0.95])*1.0/len(var_explain)\n",
    "\n",
    "fig, ax = plt.subplots()\n",
    "fig.set_size_inches( 5,5 )\n",
    "ax.hist(var_explain, histtype='bar',  \\\n",
    "        label=['Variance explained'], bins = 30)\n",
    "# ax.set_title('Price proposed by ask and bit requests on one minute', fontsize=13)\n",
    "ax.set_xlabel('Variance explained', fontsize=13)\n",
    "ax.set_xlim(0.95,1)"
   ]
  },
  {
   "cell_type": "code",
   "execution_count": 9,
   "metadata": {},
   "outputs": [
    {
     "name": "stdout",
     "output_type": "stream",
     "text": [
      "(13729,)\n"
     ]
    }
   ],
   "source": [
    "# load raw feature and target data\n",
    "features_minu = np.load(\"../dataset/bitcoin/training_data/feature_minu.dat\")\n",
    "rvol_hour = np.load(\"../dataset/bitcoin/training_data/return_vol_hour.dat\")\n",
    "all_loc_hour = np.load(\"../dataset/bitcoin/loc_hour.dat\")\n",
    "    \n",
    "all_dta_minu = np.load(\"../dataset/bitcoin/dta_minu.dat\")\n",
    "price_minu, req_minu = cal_price_req_minu(all_dta_minu)\n",
    "    \n",
    "print np.shape(rvol_hour)\n",
    "    \n",
    "# prepare the set of pairs of features and targets\n",
    "x, y, var_explain = prepare_feature_target( features_minu, rvol_hour, all_loc_hour, \\\n",
    "                                                        para_order_minu, para_order_hour, bool_feature_selection )"
   ]
  },
  {
   "cell_type": "code",
   "execution_count": 11,
   "metadata": {
    "scrolled": false
   },
   "outputs": [
    {
     "name": "stdout",
     "output_type": "stream",
     "text": [
      "(13729,) (13713,) 13729\n",
      "(13713, 2) (13713,) 720 19\n",
      "16 1455 2175\n",
      "shape (54353,) (27756,)\n",
      "736 2175 2895\n",
      "shape (54921,) (28451,)\n",
      "1456 2895 3615\n",
      "shape (56091,) (27549,)\n",
      "2176 3615 4335\n",
      "shape (55880,) (39257,)\n",
      "2896 4335 5055\n",
      "shape (66668,) (41410,)\n",
      "3616 5055 5775\n",
      "shape (80510,) (41192,)\n",
      "4336 5775 6495\n",
      "shape (82426,) (41200,)\n",
      "5056 6495 7215\n",
      "shape (82216,) (42049,)\n",
      "5776 7215 7935\n",
      "shape (83073,) (42362,)\n",
      "6496 7935 8655\n",
      "shape (84234,) (42150,)\n",
      "7216 8655 9375\n",
      "shape (84335,) (35555,)\n",
      "7936 9375 10095\n",
      "shape (77528,) (43190,)\n",
      "8656 10095 10815\n",
      "shape (78568,) (43219,)\n",
      "9376 10815 11535\n",
      "shape (86232,) (43215,)\n",
      "10096 11535 12255\n",
      "shape (86257,) (41004,)\n",
      "10816 12255 12975\n",
      "shape (84048,) (36026,)\n",
      "11536 12975 13695\n",
      "shape (76870,) (32166,)\n"
     ]
    }
   ],
   "source": [
    "# INTERVAL DATA\n",
    "    \n",
    "print np.shape(rvol_hour), np.shape(y), len(all_loc_hour)\n",
    "    \n",
    "# set up the training and evaluation interval \n",
    "interval_len = 30*24\n",
    "interval_num = int(len(y)/interval_len)\n",
    "print np.shape(x), np.shape(y), interval_len, interval_num\n",
    "roll_len = 2\n",
    "    \n",
    "\n",
    "train_mode = 'roll'\n",
    "\n",
    "\n",
    "# the main loop\n",
    "for i in range(roll_len + 1, interval_num + 1):\n",
    "    # extract the data within the current time interval\n",
    "    if train_mode == 'roll':\n",
    "        \n",
    "        tmp_x = x[(i-roll_len-1)*interval_len : i*interval_len]\n",
    "        tmp_y = y[(i-roll_len-1)*interval_len : i*interval_len]\n",
    "        \n",
    "        tmp_l = (i-roll_len-1)*interval_len\n",
    "        tmp_r = i*interval_len-1\n",
    "            \n",
    "    elif train_mode == 'incre':\n",
    "        \n",
    "        tmp_x = x[ : i*interval_len]\n",
    "        tmp_y = y[ : i*interval_len]\n",
    "        \n",
    "        tmp_l = 0\n",
    "        tmp_r = i*interval_len-1\n",
    "        \n",
    "    para_train_split_ratio = 1.0*( (tmp_r-tmp_l+1) - interval_len )/(tmp_r-tmp_l)\n",
    "    \n",
    "    tmpl = tmp_l + para_order_hour\n",
    "    tmpr = tmp_r + para_order_hour\n",
    "    tmp_mid = tmpl +  interval_len*roll_len - 1\n",
    "    #int( tmp_l + (tmp_r-tmp_l)*para_train_split_ratio )\n",
    "    \n",
    "    print tmpl, tmp_mid, tmpr\n",
    "    \n",
    "    minu_l = all_loc_hour[tmpl]\n",
    "    minu_mid = all_loc_hour[tmp_mid]\n",
    "    minu_r = all_loc_hour[tmpr+1]\n",
    "    \n",
    "    data_minu_train = price_minu[minu_l : minu_mid+1]\n",
    "    data_minu_test  = price_minu[minu_mid+1 : minu_r]\n",
    "    \n",
    "    print 'shape', np.shape(data_minu_train), np.shape(data_minu_test)\n",
    "    \n",
    "#         if para_bool_bilinear == True:\n",
    "#             xtrain, ytrain, xtest, ytest = training_testing_mixture_rnn(tmp_x, tmp_y, para_train_split_ratio)\n",
    "#         else:\n",
    "#             xtrain, ytrain, xtest, ytest = training_testing_mixture_mlp(tmp_x, tmp_y, para_train_split_ratio)\n",
    "        \n",
    "    # dump training and testing data in one interval to disk \n",
    "    np.asarray(data_minu_train).dump(\"../dataset/bitcoin/training_data/rolling_minu/\" + str(i-1) + \"_train.dat\")\n",
    "    np.asarray(data_minu_test ).dump(\"../dataset/bitcoin/training_data/rolling_minu/\" + str(i-1) + \"_test.dat\")\n",
    "        \n",
    "        "
   ]
  },
  {
   "cell_type": "code",
   "execution_count": 8,
   "metadata": {},
   "outputs": [
    {
     "name": "stdout",
     "output_type": "stream",
     "text": [
      "[[0.35906979 0.40477864 0.27161129]\n",
      " [0.17371957 0.97553405 0.71700633]\n",
      " [0.36807989 0.35002124 0.31203351]\n",
      " [0.70679767 0.25048288 0.24110495]\n",
      " [0.29342085 0.19734709 0.10167807]]\n",
      "[False  True False False False]\n",
      "[[0.17371957 0.975534   0.7170063 ]]\n"
     ]
    }
   ],
   "source": [
    "import numpy as np\n",
    "import tensorflow as tf\n",
    "\n",
    "point_cloud = tf.placeholder(tf.float32, shape=[None,3])\n",
    "eps = tf.placeholder(tf.float32, shape=[None])\n",
    "\n",
    "mask = tf.greater(point_cloud[:,2], eps)\n",
    "reduced_cloud = tf.boolean_mask(point_cloud, mask)\n",
    "\n",
    "init = tf.global_variables_initializer()\n",
    "with tf.Session() as sess:\n",
    "    \n",
    "    sess.run(init)\n",
    "    _cloud = np.random.rand(5,3)\n",
    "    print _cloud\n",
    "    \n",
    "    feed = {point_cloud:_cloud, eps:[0.5]}\n",
    "    mask, filtered = sess.run( [mask, reduced_cloud], feed_dict=feed)\n",
    "    \n",
    "    print mask\n",
    "    print filtered"
   ]
  }
 ],
 "metadata": {
  "kernelspec": {
   "display_name": "Python 2",
   "language": "python",
   "name": "python2"
  },
  "language_info": {
   "codemirror_mode": {
    "name": "ipython",
    "version": 2
   },
   "file_extension": ".py",
   "mimetype": "text/x-python",
   "name": "python",
   "nbconvert_exporter": "python",
   "pygments_lexer": "ipython2",
   "version": "2.7.12"
  }
 },
 "nbformat": 4,
 "nbformat_minor": 1
}
